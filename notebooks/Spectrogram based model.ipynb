{
 "cells": [
  {
   "cell_type": "markdown",
   "metadata": {},
   "source": [
    "# Spectrogram based sEMG classification model"
   ]
  },
  {
   "cell_type": "markdown",
   "metadata": {},
   "source": [
    "### Includes"
   ]
  },
  {
   "cell_type": "code",
   "execution_count": 1,
   "metadata": {},
   "outputs": [
    {
     "name": "stderr",
     "output_type": "stream",
     "text": [
      "Using TensorFlow backend.\n"
     ]
    }
   ],
   "source": [
    "import os\n",
    "import pandas as pd\n",
    "import matplotlib.pyplot as plt\n",
    "import numpy as np\n",
    "from tensorflow.keras.layers import Input, Dense, Flatten, Dropout, Conv2D, BatchNormalization, MaxPooling2D \n",
    "from tensorflow.keras.models import Model\n",
    "from tensorflow.keras.optimizers import Adam\n",
    "from tensorflow.python.keras.callbacks import TensorBoard\n",
    "from time import time\n",
    "from random import choice, shuffle\n",
    "from scipy.signal import spectrogram\n",
    "from keras.utils import to_categorical"
   ]
  },
  {
   "cell_type": "code",
   "execution_count": 2,
   "metadata": {},
   "outputs": [],
   "source": [
    "%matplotlib inline\n",
    "%load_ext tensorboard"
   ]
  },
  {
   "cell_type": "markdown",
   "metadata": {},
   "source": [
    "### Setting workspace"
   ]
  },
  {
   "cell_type": "code",
   "execution_count": 3,
   "metadata": {},
   "outputs": [],
   "source": [
    "os.chdir('..')\n",
    "ROOT = os.getcwd()\n",
    "DIR_PATH = os.path.join(ROOT, 'datasets/myo_data')"
   ]
  },
  {
   "cell_type": "markdown",
   "metadata": {},
   "source": [
    "### Constants"
   ]
  },
  {
   "cell_type": "code",
   "execution_count": 4,
   "metadata": {},
   "outputs": [],
   "source": [
    "LABELS = ['Flexion', 'Extension', 'Fist', 'Neutral']\n",
    "NB_LABELS = len(LABELS)\n",
    "NB_CHANNELS = 8"
   ]
  },
  {
   "cell_type": "markdown",
   "metadata": {},
   "source": [
    "### Random Label"
   ]
  },
  {
   "cell_type": "code",
   "execution_count": 5,
   "metadata": {},
   "outputs": [
    {
     "name": "stdout",
     "output_type": "stream",
     "text": [
      "Sample of Extension label\n"
     ]
    },
    {
     "data": {
      "text/html": [
       "<div>\n",
       "<style scoped>\n",
       "    .dataframe tbody tr th:only-of-type {\n",
       "        vertical-align: middle;\n",
       "    }\n",
       "\n",
       "    .dataframe tbody tr th {\n",
       "        vertical-align: top;\n",
       "    }\n",
       "\n",
       "    .dataframe thead th {\n",
       "        text-align: right;\n",
       "    }\n",
       "</style>\n",
       "<table border=\"1\" class=\"dataframe\">\n",
       "  <thead>\n",
       "    <tr style=\"text-align: right;\">\n",
       "      <th></th>\n",
       "      <th>ch1</th>\n",
       "      <th>ch2</th>\n",
       "      <th>ch3</th>\n",
       "      <th>ch4</th>\n",
       "      <th>ch5</th>\n",
       "      <th>ch6</th>\n",
       "      <th>ch7</th>\n",
       "      <th>ch8</th>\n",
       "    </tr>\n",
       "  </thead>\n",
       "  <tbody>\n",
       "    <tr>\n",
       "      <th>0</th>\n",
       "      <td>-3</td>\n",
       "      <td>-7</td>\n",
       "      <td>-29</td>\n",
       "      <td>-96</td>\n",
       "      <td>-41</td>\n",
       "      <td>-6</td>\n",
       "      <td>-4</td>\n",
       "      <td>-1</td>\n",
       "    </tr>\n",
       "    <tr>\n",
       "      <th>1</th>\n",
       "      <td>3</td>\n",
       "      <td>8</td>\n",
       "      <td>11</td>\n",
       "      <td>9</td>\n",
       "      <td>8</td>\n",
       "      <td>14</td>\n",
       "      <td>6</td>\n",
       "      <td>2</td>\n",
       "    </tr>\n",
       "    <tr>\n",
       "      <th>2</th>\n",
       "      <td>-5</td>\n",
       "      <td>-8</td>\n",
       "      <td>-7</td>\n",
       "      <td>-9</td>\n",
       "      <td>-25</td>\n",
       "      <td>-11</td>\n",
       "      <td>-6</td>\n",
       "      <td>-3</td>\n",
       "    </tr>\n",
       "    <tr>\n",
       "      <th>3</th>\n",
       "      <td>2</td>\n",
       "      <td>5</td>\n",
       "      <td>12</td>\n",
       "      <td>48</td>\n",
       "      <td>24</td>\n",
       "      <td>1</td>\n",
       "      <td>-2</td>\n",
       "      <td>1</td>\n",
       "    </tr>\n",
       "    <tr>\n",
       "      <th>4</th>\n",
       "      <td>3</td>\n",
       "      <td>3</td>\n",
       "      <td>5</td>\n",
       "      <td>9</td>\n",
       "      <td>-8</td>\n",
       "      <td>4</td>\n",
       "      <td>5</td>\n",
       "      <td>3</td>\n",
       "    </tr>\n",
       "  </tbody>\n",
       "</table>\n",
       "</div>"
      ],
      "text/plain": [
       "   ch1  ch2  ch3  ch4  ch5  ch6  ch7  ch8\n",
       "0   -3   -7  -29  -96  -41   -6   -4   -1\n",
       "1    3    8   11    9    8   14    6    2\n",
       "2   -5   -8   -7   -9  -25  -11   -6   -3\n",
       "3    2    5   12   48   24    1   -2    1\n",
       "4    3    3    5    9   -8    4    5    3"
      ]
     },
     "execution_count": 5,
     "metadata": {},
     "output_type": "execute_result"
    }
   ],
   "source": [
    "label = choice(LABELS)\n",
    "sample_file = choice(os.listdir(os.path.join(DIR_PATH, label)))\n",
    "sample_path = os.path.join(DIR_PATH, label, sample_file)\n",
    "print(f'Sample of {label} label')\n",
    "sample_df = pd.read_csv(sample_path)\n",
    "sample_df.head()"
   ]
  },
  {
   "cell_type": "markdown",
   "metadata": {},
   "source": [
    "### Spectrogram parameters"
   ]
  },
  {
   "cell_type": "code",
   "execution_count": 6,
   "metadata": {},
   "outputs": [],
   "source": [
    "nperseg = 10 #increasing nperseg increases frequency resolution and decreases time res\n",
    "noverlap = 8 #increasing time resolution requires increasing overlap\n",
    "window = 'hann' #hann provides good time and frequency resolution properties"
   ]
  },
  {
   "cell_type": "markdown",
   "metadata": {},
   "source": [
    "### Plotting spectrograms for a sample"
   ]
  },
  {
   "cell_type": "code",
   "execution_count": 7,
   "metadata": {},
   "outputs": [
    {
     "name": "stdout",
     "output_type": "stream",
     "text": [
      "Spectrogram shape: (6, 21)\n"
     ]
    },
    {
     "data": {
      "image/png": "[encoded data removed]",
      "text/plain": [
       "<Figure size 1008x576 with 1 Axes>"
      ]
     },
     "metadata": {
      "needs_background": "light"
     },
     "output_type": "display_data"
    },
    {
     "data": {
      "image/png": "[encoded data removed]",
      "text/plain": [
       "<Figure size 1008x576 with 1 Axes>"
      ]
     },
     "metadata": {
      "needs_background": "light"
     },
     "output_type": "display_data"
    },
    {
     "data": {
      "image/png": "[encoded data removed]",
      "text/plain": [
       "<Figure size 1008x576 with 1 Axes>"
      ]
     },
     "metadata": {
      "needs_background": "light"
     },
     "output_type": "display_data"
    },
    {
     "data": {
      "image/png": "[encoded data removed]",
      "text/plain": [
       "<Figure size 1008x576 with 1 Axes>"
      ]
     },
     "metadata": {
      "needs_background": "light"
     },
     "output_type": "display_data"
    },
    {
     "data": {
      "image/png": "[encoded data removed]",
      "text/plain": [
       "<Figure size 1008x576 with 1 Axes>"
      ]
     },
     "metadata": {
      "needs_background": "light"
     },
     "output_type": "display_data"
    },
    {
     "data": {
      "image/png": "[encoded data removed]",
      "text/plain": [
       "<Figure size 1008x576 with 1 Axes>"
      ]
     },
     "metadata": {
      "needs_background": "light"
     },
     "output_type": "display_data"
    },
    {
     "data": {
      "image/png": "[encoded data removed]",
      "text/plain": [
       "<Figure size 1008x576 with 1 Axes>"
      ]
     },
     "metadata": {
      "needs_background": "light"
     },
     "output_type": "display_data"
    },
    {
     "data": {
      "image/png": "[encoded data removed]",
      "text/plain": [
       "<Figure size 1008x576 with 1 Axes>"
      ]
     },
     "metadata": {
      "needs_background": "light"
     },
     "output_type": "display_data"
    }
   ],
   "source": [
    "for col in sample_df.columns:\n",
    "    frequencies, times, spec = spectrogram(x=sample_df[col], fs=200, nperseg=nperseg, noverlap=noverlap, window=window)\n",
    "    fig = plt.figure(figsize=(14, 8))\n",
    "    fig.add_subplot(211)\n",
    "    plt.pcolormesh(times, frequencies, spec)\n",
    "    plt.show\n",
    "\n",
    "spec_shape = spec.shape\n",
    "print('Spectrogram shape:', spec_shape)"
   ]
  },
  {
   "cell_type": "markdown",
   "metadata": {},
   "source": [
    "### Building dataset"
   ]
  },
  {
   "cell_type": "code",
   "execution_count": 8,
   "metadata": {},
   "outputs": [],
   "source": [
    "n_samples = np.sum([len(os.listdir(os.path.join(DIR_PATH, label))) for label in LABELS])"
   ]
  },
  {
   "cell_type": "code",
   "execution_count": 9,
   "metadata": {},
   "outputs": [],
   "source": [
    "dataset = np.zeros(shape = (n_samples, *spec_shape, 8))\n",
    "n_samp = 0\n",
    "img_shape = (*spec_shape, 8)\n",
    "img = np.zeros(img_shape)\n",
    "for label in LABELS:\n",
    "    files = os.listdir(os.path.join(DIR_PATH, label))\n",
    "    for file in files:\n",
    "        sample_df = pd.read_csv(os.path.join(DIR_PATH, label, file))\n",
    "        for i, ch in enumerate(sample_df.columns):\n",
    "            frequencies, times, spec = spectrogram(x=sample_df[ch],\n",
    "                                                   fs=200,\n",
    "                                                   nperseg=nperseg,\n",
    "                                                   noverlap=noverlap,\n",
    "                                                   window=window)\n",
    "            img[:,:,i] = spec \n",
    "        dataset[n_samp] = img\n",
    "        n_samp += 1"
   ]
  },
  {
   "cell_type": "code",
   "execution_count": 10,
   "metadata": {},
   "outputs": [],
   "source": [
    "labels = []\n",
    "for label in LABELS:\n",
    "    labels.append(len(os.listdir(os.path.join(DIR_PATH, label))))\n",
    "dataset_labels=[]\n",
    "for i, label in enumerate(labels):\n",
    "    y = np.repeat(i, label)\n",
    "    dataset_labels.append(y)\n",
    "dataset_labels = np.concatenate(dataset_labels)\n",
    "dataset_labels = to_categorical(dataset_labels)"
   ]
  },
  {
   "cell_type": "code",
   "execution_count": 11,
   "metadata": {},
   "outputs": [],
   "source": [
    "indexes = list(range(n_samples))\n",
    "shuffle(indexes)\n",
    "indexes = np.array(indexes)"
   ]
  },
  {
   "cell_type": "code",
   "execution_count": 12,
   "metadata": {},
   "outputs": [],
   "source": [
    "dataset = dataset[indexes]\n",
    "dataset_labels = dataset_labels[indexes]\n",
    "split = len(dataset)//5\n",
    "x_train = dataset[:n_samples-split]\n",
    "x_test = dataset[n_samples-split:]\n",
    "y_train = dataset_labels[:n_samples-split]\n",
    "y_test = dataset_labels[n_samples-split:]"
   ]
  },
  {
   "cell_type": "code",
   "execution_count": 13,
   "metadata": {},
   "outputs": [
    {
     "data": {
      "text/plain": [
       "520"
      ]
     },
     "execution_count": 13,
     "metadata": {},
     "output_type": "execute_result"
    }
   ],
   "source": [
    "len(dataset)//5"
   ]
  },
  {
   "cell_type": "code",
   "execution_count": 14,
   "metadata": {},
   "outputs": [
    {
     "name": "stdout",
     "output_type": "stream",
     "text": [
      "Dataset shape: (2601, 6, 21, 8)\n",
      "Labels shape: (2601, 4)\n"
     ]
    }
   ],
   "source": [
    "print(f'Dataset shape: {dataset.shape}')\n",
    "print(f'Labels shape: {dataset_labels.shape}')"
   ]
  },
  {
   "cell_type": "code",
   "execution_count": 15,
   "metadata": {},
   "outputs": [],
   "source": [
    "def build_model(input_shape, nclass):\n",
    "    inputlayer = Input(shape=input_shape)\n",
    "    \n",
    "    BatchNorm = BatchNormalization()(inputlayer)\n",
    "    model = Conv2D(32, kernel_size=2, padding='same', activation='relu')(BatchNorm)\n",
    "    model = Conv2D(32, kernel_size=2, padding='same', activation='relu')(model)\n",
    "    model = MaxPooling2D(pool_size=(2, 2))(model)\n",
    "    model = Dropout(rate=0.2)(model)\n",
    "    model = Conv2D(64, kernel_size=3, padding='same', activation='relu')(model)\n",
    "    model = Conv2D(64, kernel_size=3, padding='same', activation='relu')(model)\n",
    "    model = MaxPooling2D(pool_size=(2, 2))(model)\n",
    "    model = Dropout(rate=0.2)(model)\n",
    "    model = Conv2D(128, kernel_size=3, padding='same', activation='relu')(model)\n",
    "    model = Conv2D(128, kernel_size=3, padding='same', activation='relu')(model)\n",
    "    model = MaxPooling2D(pool_size=(1, 1))(model)\n",
    "    model = Flatten()(model) \n",
    "\n",
    "    dense = BatchNormalization()(Dense(128, activation='relu')(model))\n",
    "    dense = BatchNormalization()(Dense(128, activation='relu')(dense))\n",
    "    dense = Dense(nclass, activation='softmax')(dense)\n",
    "\n",
    "    model = Model(inputs=inputlayer, outputs=dense)\n",
    "    \n",
    "    return model"
   ]
  },
  {
   "cell_type": "code",
   "execution_count": 16,
   "metadata": {},
   "outputs": [],
   "source": [
    "model = build_model(dataset.shape[1:], 4)"
   ]
  },
  {
   "cell_type": "code",
   "execution_count": 17,
   "metadata": {},
   "outputs": [
    {
     "name": "stdout",
     "output_type": "stream",
     "text": [
      "Model: \"model\"\n",
      "_________________________________________________________________\n",
      "Layer (type)                 Output Shape              Param #   \n",
      "=================================================================\n",
      "input_1 (InputLayer)         [(None, 6, 21, 8)]        0         \n",
      "_________________________________________________________________\n",
      "batch_normalization (BatchNo (None, 6, 21, 8)          32        \n",
      "_________________________________________________________________\n",
      "conv2d (Conv2D)              (None, 6, 21, 32)         1056      \n",
      "_________________________________________________________________\n",
      "conv2d_1 (Conv2D)            (None, 6, 21, 32)         4128      \n",
      "_________________________________________________________________\n",
      "max_pooling2d (MaxPooling2D) (None, 3, 10, 32)         0         \n",
      "_________________________________________________________________\n",
      "dropout (Dropout)            (None, 3, 10, 32)         0         \n",
      "_________________________________________________________________\n",
      "conv2d_2 (Conv2D)            (None, 3, 10, 64)         18496     \n",
      "_________________________________________________________________\n",
      "conv2d_3 (Conv2D)            (None, 3, 10, 64)         36928     \n",
      "_________________________________________________________________\n",
      "max_pooling2d_1 (MaxPooling2 (None, 1, 5, 64)          0         \n",
      "_________________________________________________________________\n",
      "dropout_1 (Dropout)          (None, 1, 5, 64)          0         \n",
      "_________________________________________________________________\n",
      "conv2d_4 (Conv2D)            (None, 1, 5, 128)         73856     \n",
      "_________________________________________________________________\n",
      "conv2d_5 (Conv2D)            (None, 1, 5, 128)         147584    \n",
      "_________________________________________________________________\n",
      "max_pooling2d_2 (MaxPooling2 (None, 1, 5, 128)         0         \n",
      "_________________________________________________________________\n",
      "flatten (Flatten)            (None, 640)               0         \n",
      "_________________________________________________________________\n",
      "dense (Dense)                (None, 128)               82048     \n",
      "_________________________________________________________________\n",
      "batch_normalization_1 (Batch (None, 128)               512       \n",
      "_________________________________________________________________\n",
      "dense_1 (Dense)              (None, 128)               16512     \n",
      "_________________________________________________________________\n",
      "batch_normalization_2 (Batch (None, 128)               512       \n",
      "_________________________________________________________________\n",
      "dense_2 (Dense)              (None, 4)                 516       \n",
      "=================================================================\n",
      "Total params: 382,180\n",
      "Trainable params: 381,652\n",
      "Non-trainable params: 528\n",
      "_________________________________________________________________\n"
     ]
    }
   ],
   "source": [
    "model.summary()"
   ]
  },
  {
   "cell_type": "markdown",
   "metadata": {},
   "source": [
    "### Optimizer"
   ]
  },
  {
   "cell_type": "code",
   "execution_count": 18,
   "metadata": {},
   "outputs": [],
   "source": [
    "optimizer = Adam(lr = 0.0001,\n",
    "                 beta_1 = 0.9,\n",
    "                 beta_2 = 0.999,\n",
    "                 epsilon = 1e-08)"
   ]
  },
  {
   "cell_type": "markdown",
   "metadata": {},
   "source": [
    "### Callbacks "
   ]
  },
  {
   "cell_type": "code",
   "execution_count": 19,
   "metadata": {},
   "outputs": [],
   "source": [
    "callbacks = [TensorBoard(log_dir=os.path.join(ROOT, 'logs', f'spec'))]"
   ]
  },
  {
   "cell_type": "markdown",
   "metadata": {},
   "source": [
    "### Compiling and training model"
   ]
  },
  {
   "cell_type": "code",
   "execution_count": 20,
   "metadata": {},
   "outputs": [
    {
     "name": "stdout",
     "output_type": "stream",
     "text": [
      "Train on 1560 samples, validate on 521 samples\n",
      "Epoch 1/30\n",
      "1560/1560 [==============================] - 2s 1ms/sample - loss: 1.1415 - accuracy: 0.5224 - val_loss: 1.3456 - val_accuracy: 0.6084\n",
      "Epoch 2/30\n",
      "1560/1560 [==============================] - 1s 581us/sample - loss: 0.6152 - accuracy: 0.7577 - val_loss: 1.3151 - val_accuracy: 0.6891\n",
      "Epoch 3/30\n",
      "1560/1560 [==============================] - 1s 819us/sample - loss: 0.3626 - accuracy: 0.8756 - val_loss: 1.2683 - val_accuracy: 0.7390\n",
      "Epoch 4/30\n",
      "1560/1560 [==============================] - 1s 712us/sample - loss: 0.2695 - accuracy: 0.9103 - val_loss: 1.2171 - val_accuracy: 0.7965\n",
      "Epoch 5/30\n",
      "1560/1560 [==============================] - 1s 639us/sample - loss: 0.2312 - accuracy: 0.9295 - val_loss: 1.1597 - val_accuracy: 0.8772\n",
      "Epoch 6/30\n",
      "1560/1560 [==============================] - 1s 531us/sample - loss: 0.1958 - accuracy: 0.9410 - val_loss: 1.0883 - val_accuracy: 0.9290\n",
      "Epoch 7/30\n",
      "1560/1560 [==============================] - 1s 497us/sample - loss: 0.1635 - accuracy: 0.9474 - val_loss: 1.0008 - val_accuracy: 0.9443\n",
      "Epoch 8/30\n",
      "1560/1560 [==============================] - 1s 503us/sample - loss: 0.1351 - accuracy: 0.9590 - val_loss: 0.8773 - val_accuracy: 0.9578\n",
      "Epoch 9/30\n",
      "1560/1560 [==============================] - 1s 498us/sample - loss: 0.1259 - accuracy: 0.9615 - val_loss: 0.7617 - val_accuracy: 0.9827\n",
      "Epoch 10/30\n",
      "1560/1560 [==============================] - 1s 499us/sample - loss: 0.1005 - accuracy: 0.9686 - val_loss: 0.6554 - val_accuracy: 0.9942\n",
      "Epoch 11/30\n",
      "1560/1560 [==============================] - 1s 542us/sample - loss: 0.1188 - accuracy: 0.9596 - val_loss: 0.5207 - val_accuracy: 0.9808\n",
      "Epoch 12/30\n",
      "1560/1560 [==============================] - 1s 531us/sample - loss: 0.1165 - accuracy: 0.9635 - val_loss: 0.4136 - val_accuracy: 0.9885\n",
      "Epoch 13/30\n",
      "1560/1560 [==============================] - 1s 514us/sample - loss: 0.1119 - accuracy: 0.9647 - val_loss: 0.3206 - val_accuracy: 0.9712\n",
      "Epoch 14/30\n",
      "1560/1560 [==============================] - 1s 527us/sample - loss: 0.0870 - accuracy: 0.9718 - val_loss: 0.2296 - val_accuracy: 0.9885\n",
      "Epoch 15/30\n",
      "1560/1560 [==============================] - 1s 532us/sample - loss: 0.0918 - accuracy: 0.9718 - val_loss: 0.1739 - val_accuracy: 0.9981\n",
      "Epoch 16/30\n",
      "1560/1560 [==============================] - 1s 558us/sample - loss: 0.1020 - accuracy: 0.9654 - val_loss: 0.1195 - val_accuracy: 0.9885\n",
      "Epoch 17/30\n",
      "1560/1560 [==============================] - 1s 579us/sample - loss: 0.0882 - accuracy: 0.9782 - val_loss: 0.0882 - val_accuracy: 0.9827\n",
      "Epoch 18/30\n",
      "1560/1560 [==============================] - 1s 571us/sample - loss: 0.0997 - accuracy: 0.9667 - val_loss: 0.0723 - val_accuracy: 0.9904\n",
      "Epoch 19/30\n",
      "1560/1560 [==============================] - 1s 593us/sample - loss: 0.1020 - accuracy: 0.9731 - val_loss: 0.0453 - val_accuracy: 0.9942\n",
      "Epoch 20/30\n",
      "1560/1560 [==============================] - 1s 554us/sample - loss: 0.0854 - accuracy: 0.9731 - val_loss: 0.0366 - val_accuracy: 0.9981\n",
      "Epoch 21/30\n",
      "1560/1560 [==============================] - 1s 590us/sample - loss: 0.0789 - accuracy: 0.9788 - val_loss: 0.0328 - val_accuracy: 0.9904\n",
      "Epoch 22/30\n",
      "1560/1560 [==============================] - 1s 666us/sample - loss: 0.0712 - accuracy: 0.9827 - val_loss: 0.0281 - val_accuracy: 0.9942\n",
      "Epoch 23/30\n",
      "1560/1560 [==============================] - 1s 574us/sample - loss: 0.0686 - accuracy: 0.9801 - val_loss: 0.0230 - val_accuracy: 0.9962\n",
      "Epoch 24/30\n",
      "1560/1560 [==============================] - 1s 572us/sample - loss: 0.0639 - accuracy: 0.9872 - val_loss: 0.0199 - val_accuracy: 0.9962\n",
      "Epoch 25/30\n",
      "1560/1560 [==============================] - 1s 571us/sample - loss: 0.0989 - accuracy: 0.9679 - val_loss: 0.0183 - val_accuracy: 0.9981\n",
      "Epoch 26/30\n",
      "1560/1560 [==============================] - 1s 578us/sample - loss: 0.0731 - accuracy: 0.9782 - val_loss: 0.0246 - val_accuracy: 0.9923\n",
      "Epoch 27/30\n",
      "1560/1560 [==============================] - 1s 589us/sample - loss: 0.0792 - accuracy: 0.9763 - val_loss: 0.0259 - val_accuracy: 0.9942\n",
      "Epoch 28/30\n",
      "1560/1560 [==============================] - 1s 576us/sample - loss: 0.0708 - accuracy: 0.9821 - val_loss: 0.0121 - val_accuracy: 1.0000\n",
      "Epoch 29/30\n",
      "1560/1560 [==============================] - 1s 719us/sample - loss: 0.0554 - accuracy: 0.9865 - val_loss: 0.0247 - val_accuracy: 0.9904\n",
      "Epoch 30/30\n",
      "1560/1560 [==============================] - 1s 617us/sample - loss: 0.0504 - accuracy: 0.9885 - val_loss: 0.0112 - val_accuracy: 0.9981\n"
     ]
    }
   ],
   "source": [
    "model.compile(optimizer=optimizer, loss='categorical_crossentropy', metrics=['accuracy'])\n",
    "history = model.fit(x_train,\n",
    "                   y_train,\n",
    "                   batch_size=50,\n",
    "                   epochs=30,\n",
    "                   validation_split=0.25,\n",
    "                   callbacks=callbacks)"
   ]
  },
  {
   "cell_type": "markdown",
   "metadata": {},
   "source": [
    "### Tensorboard"
   ]
  },
  {
   "cell_type": "code",
   "execution_count": 21,
   "metadata": {},
   "outputs": [
    {
     "data": {
      "text/html": [
       "\n",
       "      <iframe id=\"tensorboard-frame-8418fe040eec4492\" width=\"100%\" height=\"800\" frameborder=\"0\">\n",
       "      </iframe>\n",
       "      <script>\n",
       "        (function() {\n",
       "          const frame = document.getElementById(\"tensorboard-frame-8418fe040eec4492\");\n",
       "          const url = new URL(\"/\", window.location);\n",
       "          url.port = 6006;\n",
       "          frame.src = url;\n",
       "        })();\n",
       "      </script>\n",
       "  "
      ],
      "text/plain": [
       "<IPython.core.display.HTML object>"
      ]
     },
     "metadata": {},
     "output_type": "display_data"
    }
   ],
   "source": [
    "%tensorboard --logdir=./logs/spec"
   ]
  },
  {
   "cell_type": "markdown",
   "metadata": {},
   "source": [
    "### Cross validation"
   ]
  },
  {
   "cell_type": "code",
   "execution_count": 22,
   "metadata": {},
   "outputs": [
    {
     "name": "stdout",
     "output_type": "stream",
     "text": [
      "520/520 [==============================] - 0s 219us/sample - loss: 0.0342 - accuracy: 0.9942\n"
     ]
    }
   ],
   "source": [
    "test = model.evaluate(x_test, y_test)"
   ]
  },
  {
   "cell_type": "markdown",
   "metadata": {},
   "source": [
    "### Saving model"
   ]
  },
  {
   "cell_type": "code",
   "execution_count": 23,
   "metadata": {},
   "outputs": [],
   "source": [
    "model.save('models/spec_model.h5')"
   ]
  }
 ],
 "metadata": {
  "kernelspec": {
   "display_name": "Python 3",
   "language": "python",
   "name": "python3"
  },
  "language_info": {
   "codemirror_mode": {
    "name": "ipython",
    "version": 3
   },
   "file_extension": ".py",
   "mimetype": "text/x-python",
   "name": "python",
   "nbconvert_exporter": "python",
   "pygments_lexer": "ipython3",
   "version": "3.7.6"
  }
 },
 "nbformat": 4,
 "nbformat_minor": 4
}
