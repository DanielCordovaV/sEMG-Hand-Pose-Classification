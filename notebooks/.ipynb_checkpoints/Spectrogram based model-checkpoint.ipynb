{
 "cells": [
  {
   "cell_type": "markdown",
   "metadata": {},
   "source": [
    "# Spectrogram based sEMG classification model"
   ]
  },
  {
   "cell_type": "markdown",
   "metadata": {},
   "source": [
    "### Includes"
   ]
  },
  {
   "cell_type": "code",
   "execution_count": 1,
   "metadata": {},
   "outputs": [],
   "source": [
    "import os\n",
    "import pandas as pd\n",
    "import matplotlib.pyplot as plt\n",
    "import numpy as np\n",
    "from tensorflow.keras.layers import Input, Dense, Flatten, Dropout, Conv2D, BatchNormalization, MaxPooling2D # tf2.0 MaxPool2D\n",
    "from tensorflow.keras.models import Model\n",
    "from tensorflow.python.keras.callbacks import TensorBoard\n",
    "from time import time\n",
    "from random import choice\n",
    "from scipy.signal import spectrogram"
   ]
  },
  {
   "cell_type": "markdown",
   "metadata": {},
   "source": [
    "### Setting workspace"
   ]
  },
  {
   "cell_type": "code",
   "execution_count": 2,
   "metadata": {},
   "outputs": [],
   "source": [
    "os.chdir('..')\n",
    "ROOT = os.getcwd()\n",
    "DIR_PATH = os.path.join(ROOT, 'datasets/myo_data')"
   ]
  },
  {
   "cell_type": "markdown",
   "metadata": {},
   "source": [
    "### Constants"
   ]
  },
  {
   "cell_type": "code",
   "execution_count": 3,
   "metadata": {},
   "outputs": [],
   "source": [
    "LABELS = ['Flexion', 'Extension', 'Fist', 'Neutral']\n",
    "NB_LABELS = len(LABELS)\n",
    "NB_CHANNELS = 8"
   ]
  },
  {
   "cell_type": "markdown",
   "metadata": {},
   "source": [
    "### Random Label"
   ]
  },
  {
   "cell_type": "code",
   "execution_count": 4,
   "metadata": {},
   "outputs": [
    {
     "name": "stdout",
     "output_type": "stream",
     "text": [
      "Sample of Fist label\n"
     ]
    },
    {
     "data": {
      "text/html": [
       "<div>\n",
       "<style scoped>\n",
       "    .dataframe tbody tr th:only-of-type {\n",
       "        vertical-align: middle;\n",
       "    }\n",
       "\n",
       "    .dataframe tbody tr th {\n",
       "        vertical-align: top;\n",
       "    }\n",
       "\n",
       "    .dataframe thead th {\n",
       "        text-align: right;\n",
       "    }\n",
       "</style>\n",
       "<table border=\"1\" class=\"dataframe\">\n",
       "  <thead>\n",
       "    <tr style=\"text-align: right;\">\n",
       "      <th></th>\n",
       "      <th>ch1</th>\n",
       "      <th>ch2</th>\n",
       "      <th>ch3</th>\n",
       "      <th>ch4</th>\n",
       "      <th>ch5</th>\n",
       "      <th>ch6</th>\n",
       "      <th>ch7</th>\n",
       "      <th>ch8</th>\n",
       "    </tr>\n",
       "  </thead>\n",
       "  <tbody>\n",
       "    <tr>\n",
       "      <th>0</th>\n",
       "      <td>-2</td>\n",
       "      <td>-3</td>\n",
       "      <td>-2</td>\n",
       "      <td>0</td>\n",
       "      <td>-3</td>\n",
       "      <td>-3</td>\n",
       "      <td>-1</td>\n",
       "      <td>-1</td>\n",
       "    </tr>\n",
       "    <tr>\n",
       "      <th>1</th>\n",
       "      <td>0</td>\n",
       "      <td>-2</td>\n",
       "      <td>-5</td>\n",
       "      <td>-5</td>\n",
       "      <td>-2</td>\n",
       "      <td>-5</td>\n",
       "      <td>1</td>\n",
       "      <td>-1</td>\n",
       "    </tr>\n",
       "    <tr>\n",
       "      <th>2</th>\n",
       "      <td>-2</td>\n",
       "      <td>8</td>\n",
       "      <td>1</td>\n",
       "      <td>-2</td>\n",
       "      <td>1</td>\n",
       "      <td>5</td>\n",
       "      <td>5</td>\n",
       "      <td>0</td>\n",
       "    </tr>\n",
       "    <tr>\n",
       "      <th>3</th>\n",
       "      <td>-1</td>\n",
       "      <td>5</td>\n",
       "      <td>2</td>\n",
       "      <td>-1</td>\n",
       "      <td>-2</td>\n",
       "      <td>0</td>\n",
       "      <td>-6</td>\n",
       "      <td>0</td>\n",
       "    </tr>\n",
       "    <tr>\n",
       "      <th>4</th>\n",
       "      <td>0</td>\n",
       "      <td>-4</td>\n",
       "      <td>-6</td>\n",
       "      <td>-1</td>\n",
       "      <td>1</td>\n",
       "      <td>2</td>\n",
       "      <td>3</td>\n",
       "      <td>-1</td>\n",
       "    </tr>\n",
       "  </tbody>\n",
       "</table>\n",
       "</div>"
      ],
      "text/plain": [
       "   ch1  ch2  ch3  ch4  ch5  ch6  ch7  ch8\n",
       "0   -2   -3   -2    0   -3   -3   -1   -1\n",
       "1    0   -2   -5   -5   -2   -5    1   -1\n",
       "2   -2    8    1   -2    1    5    5    0\n",
       "3   -1    5    2   -1   -2    0   -6    0\n",
       "4    0   -4   -6   -1    1    2    3   -1"
      ]
     },
     "execution_count": 4,
     "metadata": {},
     "output_type": "execute_result"
    }
   ],
   "source": [
    "label = choice(LABELS)\n",
    "sample_file = choice(os.listdir(os.path.join(DIR_PATH, label)))\n",
    "sample_path = os.path.join(DIR_PATH, label, sample_file)\n",
    "print(f'Sample of {label} label')\n",
    "sample_df = pd.read_csv(sample_path)\n",
    "sample_df.head()"
   ]
  },
  {
   "cell_type": "markdown",
   "metadata": {},
   "source": [
    "### Spectrogram parameters"
   ]
  },
  {
   "cell_type": "code",
   "execution_count": 5,
   "metadata": {},
   "outputs": [],
   "source": [
    "nperseg = 10 #increasing nperseg increases frequency resolution and decreases time res\n",
    "noverlap = 8 #increasing time resolution requires increasing overlap\n",
    "window = 'hann' #hann provides good time and frequency resolution properties"
   ]
  },
  {
   "cell_type": "markdown",
   "metadata": {},
   "source": [
    "### Plotting spectrograms for a sample"
   ]
  },
  {
   "cell_type": "code",
   "execution_count": 6,
   "metadata": {},
   "outputs": [
    {
     "name": "stdout",
     "output_type": "stream",
     "text": [
      "Spectrogram shape: (6, 21)\n"
     ]
    },
    {
     "data": {
      "image/png": "[encoded data removed]",
      "text/plain": [
       "<Figure size 1008x576 with 1 Axes>"
      ]
     },
     "metadata": {
      "needs_background": "light"
     },
     "output_type": "display_data"
    },
    {
     "data": {
      "image/png": "[encoded data removed]",
      "text/plain": [
       "<Figure size 1008x576 with 1 Axes>"
      ]
     },
     "metadata": {
      "needs_background": "light"
     },
     "output_type": "display_data"
    },
    {
     "data": {
      "image/png": "[encoded data removed]",
      "text/plain": [
       "<Figure size 1008x576 with 1 Axes>"
      ]
     },
     "metadata": {
      "needs_background": "light"
     },
     "output_type": "display_data"
    },
    {
     "data": {
      "image/png": "[encoded data removed]",
      "text/plain": [
       "<Figure size 1008x576 with 1 Axes>"
      ]
     },
     "metadata": {
      "needs_background": "light"
     },
     "output_type": "display_data"
    },
    {
     "data": {
      "image/png": "[encoded data removed]",
      "text/plain": [
       "<Figure size 1008x576 with 1 Axes>"
      ]
     },
     "metadata": {
      "needs_background": "light"
     },
     "output_type": "display_data"
    },
    {
     "data": {
      "image/png": "[encoded data removed]",
      "text/plain": [
       "<Figure size 1008x576 with 1 Axes>"
      ]
     },
     "metadata": {
      "needs_background": "light"
     },
     "output_type": "display_data"
    },
    {
     "data": {
      "image/png": "[encoded data removed]",
      "text/plain": [
       "<Figure size 1008x576 with 1 Axes>"
      ]
     },
     "metadata": {
      "needs_background": "light"
     },
     "output_type": "display_data"
    },
    {
     "data": {
      "image/png": "[encoded data removed]",
      "text/plain": [
       "<Figure size 1008x576 with 1 Axes>"
      ]
     },
     "metadata": {
      "needs_background": "light"
     },
     "output_type": "display_data"
    }
   ],
   "source": [
    "for col in sample_df.columns:\n",
    "    frequencies, times, spec = spectrogram(x=sample_df[col], fs=200, nperseg=nperseg, noverlap=noverlap, window=window)\n",
    "    log_spec = np.log(spec)\n",
    "    fig = plt.figure(figsize=(14, 8))\n",
    "    fig.add_subplot(211)\n",
    "    plt.pcolormesh(times, frequencies, spec)\n",
    "    plt.show\n",
    "\n",
    "spec_shape = spec.shape\n",
    "print('Spectrogram shape:', spec_shape)"
   ]
  },
  {
   "cell_type": "markdown",
   "metadata": {},
   "source": [
    "### Building dataset"
   ]
  },
  {
   "cell_type": "code",
   "execution_count": 23,
   "metadata": {},
   "outputs": [
    {
     "name": "stdout",
     "output_type": "stream",
     "text": [
      "(708, 6, 21)\n"
     ]
    }
   ],
   "source": [
    "dataset = pd.DataFrame()\n",
    "for label in LABELS:\n",
    "    files = os.listdir(os.path.join(DIR_PATH, label))\n",
    "    n_samples = len(files)\n",
    "    x_shape = (n_samples, *spec_shape, 8)\n",
    "    x_train = np.zeros(x_shape)\n",
    "    image = np.zeros(x_shape[1:])\n",
    "    for file in files:\n",
    "        sample_df = pd.read_csv(os.path.join(DIR_PATH, label, file))\n",
    "        for i, ch in enumerate(sample_df.columns):\n",
    "            frequencies, times, spec = spectrogram(x=sample_df[ch],\n",
    "                                                   fs=200,\n",
    "                                                   nperseg=nperseg,\n",
    "                                                   noverlap=noverlap,\n",
    "                                                   window=window)\n",
    "            img[:,:,i] = spec\n",
    "            print(x_shape)\n",
    "            break\n",
    "        break\n",
    "    break\n",
    "\n",
    "        "
   ]
  },
  {
   "cell_type": "code",
   "execution_count": null,
   "metadata": {},
   "outputs": [],
   "source": [
    "###\n",
    "labels_dirs_path = '../data/osc_data/'\n",
    "labels_dirs = next(os.walk(labels_dirs_path))[1]\n",
    "channels = ['ch1', 'ch2', 'ch3', 'ch4']\n",
    "\n",
    "###\n",
    "shape = (6, 21, 4)\n",
    "flat_dim = shape[0]*shape[1]*shape[2]\n",
    "nperseg = 10\n",
    "noverlap = 8\n",
    "reshape = (-1, shape[0], shape[1], shape[2])\n",
    "j = 0\n",
    "i = 0\n",
    "dir_num = 0\n",
    "df_train_g = pd.DataFrame()\n",
    "\n",
    "for lbl_dir in labels_dirs:\n",
    "    filepath = os.path.join(labels_dirs_path, lbl_dir)\n",
    "    files = next(os.walk(filepath))[2]\n",
    "    num_examples = len(files)\n",
    "    x_shape = (num_examples, 6, 21, 4)\n",
    "    x1_train = np.zeros(x_shape)\n",
    "    \n",
    "    j = 0\n",
    "    for filename in files:\n",
    "        file = pd.read_csv(os.path.join(labels_dirs_path, lbl_dir, filename), sep=',')\n",
    "        img = np.zeros(shape)\n",
    "        k = 0\n",
    "        for i in range(4):\n",
    "            frequencies, times, spec = signal.spectrogram(x=file[channels[i]], fs=200,\n",
    "                                                          nperseg=nperseg, noverlap=noverlap,\n",
    "                                                          window='hann')\n",
    "            log_spec = np.log(spec)\n",
    "            img[:,:,i] = spec\n",
    "            i = i + 1\n",
    "        x1_train[j,:,:,:] = img\n",
    "        j = j + 1\n",
    "    print(lbl_dir, x1_train.shape)\n",
    "    flat = np.reshape(x1_train, (num_examples, flat_dim))\n",
    "    df_train1 = pd.DataFrame(data=flat)\n",
    "    vals = np.array([dir_num] * num_examples)\n",
    "    dir_num = dir_num + 1\n",
    "    df_train1['label'] = vals\n",
    "    df_train_g = df_train_g.append(df_train1, ignore_index=True)"
   ]
  }
 ],
 "metadata": {
  "kernelspec": {
   "display_name": "Python 3",
   "language": "python",
   "name": "python3"
  },
  "language_info": {
   "codemirror_mode": {
    "name": "ipython",
    "version": 3
   },
   "file_extension": ".py",
   "mimetype": "text/x-python",
   "name": "python",
   "nbconvert_exporter": "python",
   "pygments_lexer": "ipython3",
   "version": "3.7.6"
  }
 },
 "nbformat": 4,
 "nbformat_minor": 4
}
